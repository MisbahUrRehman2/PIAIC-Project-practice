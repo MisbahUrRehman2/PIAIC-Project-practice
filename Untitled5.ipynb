{
  "nbformat": 4,
  "nbformat_minor": 0,
  "metadata": {
    "colab": {
      "provenance": [],
      "authorship_tag": "ABX9TyMH9c60I7cmohcJedgu6/3h",
      "include_colab_link": true
    },
    "kernelspec": {
      "name": "python3",
      "display_name": "Python 3"
    },
    "language_info": {
      "name": "python"
    }
  },
  "cells": [
    {
      "cell_type": "markdown",
      "metadata": {
        "id": "view-in-github",
        "colab_type": "text"
      },
      "source": [
        "<a href=\"https://colab.research.google.com/github/MisbahUrRehman2/PIAIC-Project-practice/blob/main/Untitled5.ipynb\" target=\"_parent\"><img src=\"https://colab.research.google.com/assets/colab-badge.svg\" alt=\"Open In Colab\"/></a>"
      ]
    },
    {
      "cell_type": "code",
      "execution_count": 4,
      "metadata": {
        "id": "lEjfZT6qASrr",
        "colab": {
          "base_uri": "https://localhost:8080/"
        },
        "outputId": "b2887c2d-1789-459f-c305-581e42b4c56e"
      },
      "outputs": [
        {
          "output_type": "stream",
          "name": "stdout",
          "text": [
            "Hello, World!\n"
          ]
        }
      ],
      "source": [
        "\n",
        "print(\"Hello, World!\")\n"
      ]
    },
    {
      "cell_type": "code",
      "source": [
        "first_name = input(\"Enter your first name: \")\n",
        "\n",
        "# Get the last name from the user.\n",
        "last_name = input(\"Enter your last name: \")\n",
        "\n",
        "# Concatenate the first and last names with a space in between.\n",
        "full_name = first_name + \" \" + last_name\n",
        "\n",
        "# Print the full name.\n",
        "print(\"Your full name is:\", full_name)\n"
      ],
      "metadata": {
        "colab": {
          "base_uri": "https://localhost:8080/"
        },
        "id": "F4Qf3sWHF6Vs",
        "outputId": "b5579783-3e40-4149-bed1-81f6d1f3b583"
      },
      "execution_count": 5,
      "outputs": [
        {
          "output_type": "stream",
          "name": "stdout",
          "text": [
            "Enter your first name: Misbha Ur\n",
            "Enter your last name: Rehman\n",
            "Your full name is: Misbha Ur Rehman\n"
          ]
        }
      ]
    },
    {
      "cell_type": "code",
      "source": [
        "try:\n",
        "    num1 = float(input(\"Enter the first number: \"))\n",
        "    num2 = float(input(\"Enter the second number: \"))\n",
        "except ValueError:\n",
        "    print(\"Invalid input. Please enter numbers only.\")\n",
        "else:\n",
        "    # Perform arithmetic operations.\n",
        "    sum_result = num1 + num2\n",
        "    diff_result = num1 - num2\n",
        "    prod_result = num1 * num2\n",
        "\n",
        "    # Handle division by zero\n",
        "    if num2 == 0:\n",
        "        div_result = \"undefined (division by zero)\"\n",
        "    else:\n",
        "        div_result = num1 / num2\n",
        "\n",
        "    mod_result = num1 % num2\n",
        "    exp_result = num1 ** num2\n",
        "\n",
        "    # Handle floor division by zero\n",
        "    if num2 == 0:\n",
        "        floor_div_result = \"undefined (division by zero)\"\n",
        "    else:\n",
        "        floor_div_result = num1 // num2\n",
        "\n",
        "    # Print the results.\n",
        "    print(f\"The sum of {num1} and {num2} is {sum_result}.\")\n",
        "    print(f\"The difference between {num1} and {num2} is {diff_result}.\")\n",
        "    print(f\"The product of {num1} and {num2} is {prod_result}.\")\n",
        "    print(f\"The quotient of {num1} and {num2} is {div_result}.\")\n",
        "    print(f\"The modulus of {num1} and {num2} is {mod_result}.\")\n",
        "    print(f\"{num1} raised to the power of {num2} is {exp_result}.\")\n",
        "    print(f\"The floor division of {num1} and {num2} is {floor_div_result}.\")\n"
      ],
      "metadata": {
        "colab": {
          "base_uri": "https://localhost:8080/"
        },
        "id": "DZLo8AYKT7Cm",
        "outputId": "64c521e0-0b78-4238-8fcd-1547811a8aa3"
      },
      "execution_count": 7,
      "outputs": [
        {
          "output_type": "stream",
          "name": "stdout",
          "text": [
            "Enter the first number: 12\n",
            "Enter the second number: 12\n",
            "The sum of 12.0 and 12.0 is 24.0.\n",
            "The difference between 12.0 and 12.0 is 0.0.\n",
            "The product of 12.0 and 12.0 is 144.0.\n",
            "The quotient of 12.0 and 12.0 is 1.0.\n",
            "The modulus of 12.0 and 12.0 is 0.0.\n",
            "12.0 raised to the power of 12.0 is 8916100448256.0.\n",
            "The floor division of 12.0 and 12.0 is 1.0.\n"
          ]
        }
      ]
    },
    {
      "cell_type": "code",
      "source": [
        "# prompt: Write a python program which takes student name, roll number, class venue and class schedule from the user. Draft a email message to send to the student using fstring and .format() method. Print the message.\n",
        "# Make sure the email message is well formatted with dynamic values.\n",
        "# Example:\n",
        "# Dear Rehan,\n",
        "# Thank you for registering in the Python Programming course in PIAIC. Your roll number is 12345. Your classes will be held in the Air University Main Auditorium on Saturdays at 02:00PM to 06:00PM.\n",
        "\n",
        "student_name = input(\"Enter student name: \")\n",
        "roll_number = input(\"Enter roll number: \")\n",
        "class_venue = input(\"Enter class venue: \")\n",
        "class_schedule = input(\"Enter class schedule: \")\n",
        "\n",
        "# Using f-string\n",
        "email_message_fstring = f\"\"\"Dear {student_name},\n",
        "\n",
        "Thank you for registering in the Python Programming course in PIAIC. Your roll number is {roll_number}.\n",
        "Your classes will be held in the {class_venue} on {class_schedule}.\n",
        "\"\"\"\n",
        "\n",
        "# Using .format()\n",
        "email_message_format = \"\"\"Dear {},\n",
        "\n",
        "Thank you for registering in the Python Programming course in PIAIC. Your roll number is {}.\n",
        "Your classes will be held in the {} on {}.\n",
        "\"\"\".format(student_name, roll_number, class_venue, class_schedule)\n",
        "\n",
        "\n",
        "print(\"Email message using f-string:\")\n",
        "print(email_message_fstring)\n",
        "\n",
        "print(\"\\nEmail message using .format():\")\n",
        "email_message_format\n"
      ],
      "metadata": {
        "colab": {
          "base_uri": "https://localhost:8080/",
          "height": 261
        },
        "id": "8dum2obFWRwB",
        "outputId": "9fa6cb9c-9dda-4ef0-89df-a748afd08183"
      },
      "execution_count": 7,
      "outputs": [
        {
          "output_type": "stream",
          "name": "stdout",
          "text": [
            "Enter student name: Misbah \n",
            "Enter roll number: 1\n",
            "Enter class venue: Air\n",
            "Enter class schedule: Saturdays at 02:00PM to 06:00PM\n",
            "Email message using f-string:\n",
            "Dear Misbah ,\n",
            "\n",
            "Thank you for registering in the Python Programming course in PIAIC. Your roll number is 1. \n",
            "Your classes will be held in the Air on Saturdays at 02:00PM to 06:00PM.\n",
            "\n",
            "\n",
            "Email message using .format():\n"
          ]
        },
        {
          "output_type": "execute_result",
          "data": {
            "text/plain": [
              "'Dear Misbah ,\\n\\nThank you for registering in the Python Programming course in PIAIC. Your roll number is 1. \\nYour classes will be held in the Air on Saturdays at 02:00PM to 06:00PM.\\n'"
            ],
            "application/vnd.google.colaboratory.intrinsic+json": {
              "type": "string"
            }
          },
          "metadata": {},
          "execution_count": 7
        }
      ]
    }
  ]
}