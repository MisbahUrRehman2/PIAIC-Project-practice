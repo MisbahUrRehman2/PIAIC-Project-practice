{
  "nbformat": 4,
  "nbformat_minor": 0,
  "metadata": {
    "colab": {
      "provenance": [],
      "authorship_tag": "ABX9TyNQH1AGnX646ioQwX2QDbPD",
      "include_colab_link": true
    },
    "kernelspec": {
      "name": "python3",
      "display_name": "Python 3"
    },
    "language_info": {
      "name": "python"
    }
  },
  "cells": [
    {
      "cell_type": "markdown",
      "metadata": {
        "id": "view-in-github",
        "colab_type": "text"
      },
      "source": [
        "<a href=\"https://colab.research.google.com/github/MisbahUrRehman2/PIAIC-Project-practice/blob/main/Guess_Game.ipynb\" target=\"_parent\"><img src=\"https://colab.research.google.com/assets/colab-badge.svg\" alt=\"Open In Colab\"/></a>"
      ]
    },
    {
      "cell_type": "code",
      "execution_count": 2,
      "metadata": {
        "colab": {
          "base_uri": "https://localhost:8080/"
        },
        "id": "0qselgIJcXpx",
        "outputId": "176d6a0d-e695-4018-8604-91983dc76790"
      },
      "outputs": [
        {
          "output_type": "stream",
          "name": "stdout",
          "text": [
            "Guess a number between 1 and 5: 3\n",
            "Too low!\n",
            "Guess a number between 1 and 5: 8\n",
            "Too high!\n",
            "Guess a number between 1 and 5: 23\n",
            "Too high!\n",
            "Guess a number between 1 and 5: 54\n",
            "Too high!\n",
            "Guess a number between 1 and 5: 4\n",
            "Too low!\n",
            "Guess a number between 1 and 5: 2\n",
            "Too low!\n",
            "Guess a number between 1 and 5: 5\n",
            "You guessed the number in 7 tries!\n"
          ]
        }
      ],
      "source": [
        "\n",
        "import random\n",
        "\n",
        "random_number = random.randint(1, 5)\n",
        "guess = 0\n",
        "tries = 0\n",
        "\n",
        "while guess != random_number:\n",
        "    try:\n",
        "        guess = int(input(\"Guess a number between 1 and 5: \"))\n",
        "        tries += 1\n",
        "        if guess < random_number:\n",
        "            print(\"Too low!\")\n",
        "        elif guess > random_number:\n",
        "            print(\"Too high!\")\n",
        "    except ValueError:\n",
        "        print(\"Invalid input. Please enter a number.\")\n",
        "\n",
        "print(f\"You guessed the number in {tries} tries!\")\n"
      ]
    }
  ]
}