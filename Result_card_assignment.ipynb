{
  "nbformat": 4,
  "nbformat_minor": 0,
  "metadata": {
    "colab": {
      "provenance": [],
      "authorship_tag": "ABX9TyNtOZNUMBUq0mB0lkeX07ga",
      "include_colab_link": true
    },
    "kernelspec": {
      "name": "python3",
      "display_name": "Python 3"
    },
    "language_info": {
      "name": "python"
    }
  },
  "cells": [
    {
      "cell_type": "markdown",
      "metadata": {
        "id": "view-in-github",
        "colab_type": "text"
      },
      "source": [
        "<a href=\"https://colab.research.google.com/github/MisbahUrRehman2/PIAIC-Project-practice/blob/main/Result_card_assignment.ipynb\" target=\"_parent\"><img src=\"https://colab.research.google.com/assets/colab-badge.svg\" alt=\"Open In Colab\"/></a>"
      ]
    },
    {
      "cell_type": "code",
      "execution_count": 1,
      "metadata": {
        "colab": {
          "base_uri": "https://localhost:8080/"
        },
        "id": "tq_x5JDYbM_Y",
        "outputId": "e3f412a3-9bb1-4b70-f067-89fba2ba835e"
      },
      "outputs": [
        {
          "output_type": "stream",
          "name": "stdout",
          "text": [
            "Enter student's name: misbah\n",
            "Enter father's name: aslam\n",
            "Enter roll number: 123\n",
            "Enter marks for Math (0-100): 99\n",
            "Enter marks for Physics (0-100): 95\n",
            "Enter marks for Chemistry (0-100): 70\n",
            "Enter marks for Computer Science (0-100): 80\n",
            "Enter marks for English (0-100): 90\n",
            "\n",
            "-------------------- Result Card --------------------\n",
            "Date: 01-04-2025\n",
            "Name: misbah\n",
            "Father's Name: aslam\n",
            "Roll Number: 123\n",
            "----------------------------------------------------\n",
            "Math: 99 / 100 (A+)\n",
            "Physics: 95 / 100 (A+)\n",
            "Chemistry: 70 / 100 (B)\n",
            "Computer Science: 80 / 100 (A)\n",
            "English: 90 / 100 (A+)\n",
            "----------------------------------------------------\n",
            "Total Marks: 434 / 500\n",
            "Overall Grade: A\n",
            "----------------------------------------------------\n"
          ]
        }
      ],
      "source": [
        "\n",
        "import datetime\n",
        "\n",
        "def get_valid_marks(subject_name):\n",
        "    while True:\n",
        "        try:\n",
        "            marks = int(input(f\"Enter marks for {subject_name} (0-100): \"))\n",
        "            if 0 <= marks <= 100:\n",
        "                return marks\n",
        "            else:\n",
        "                print(\"Invalid input. Marks should be between 0 and 100.\")\n",
        "        except ValueError:\n",
        "            print(\"Invalid input. Please enter a number.\")\n",
        "\n",
        "\n",
        "def calculate_grade(marks):\n",
        "    if marks >= 90:\n",
        "        return 'A+'\n",
        "    elif marks >= 80:\n",
        "        return 'A'\n",
        "    elif marks >= 70:\n",
        "        return 'B'\n",
        "    elif marks >= 60:\n",
        "        return 'C'\n",
        "    elif marks >= 50:\n",
        "        return 'D'\n",
        "    else:\n",
        "        return 'F'\n",
        "\n",
        "\n",
        "# Get student information\n",
        "name = input(\"Enter student's name: \")\n",
        "father_name = input(\"Enter father's name: \")\n",
        "roll_number = input(\"Enter roll number: \")\n",
        "\n",
        "\n",
        "# Get marks for each subject\n",
        "subjects = [\"Math\", \"Physics\", \"Chemistry\", \"Computer Science\", \"English\"]\n",
        "marks_obtained = []\n",
        "total_marks_possible = 0\n",
        "\n",
        "\n",
        "for subject in subjects:\n",
        "    marks = get_valid_marks(subject)\n",
        "    marks_obtained.append(marks)\n",
        "    total_marks_possible += 100\n",
        "\n",
        "# Calculate total marks obtained\n",
        "total_marks_obtained = sum(marks_obtained)\n",
        "\n",
        "# Calculate overall grade\n",
        "overall_grade = calculate_grade(total_marks_obtained / len(subjects))\n",
        "\n",
        "\n",
        "# Generate result card\n",
        "current_date = datetime.date.today().strftime(\"%d-%m-%Y\")\n",
        "\n",
        "print(\"\\n-------------------- Result Card --------------------\")\n",
        "print(f\"Date: {current_date}\")\n",
        "print(f\"Name: {name}\")\n",
        "print(f\"Father's Name: {father_name}\")\n",
        "print(f\"Roll Number: {roll_number}\")\n",
        "print(\"----------------------------------------------------\")\n",
        "\n",
        "for i in range(len(subjects)):\n",
        "    grade = calculate_grade(marks_obtained[i])\n",
        "    print(f\"{subjects[i]}: {marks_obtained[i]} / 100 ({grade})\")\n",
        "\n",
        "print(\"----------------------------------------------------\")\n",
        "print(f\"Total Marks: {total_marks_obtained} / {total_marks_possible}\")\n",
        "print(f\"Overall Grade: {overall_grade}\")\n",
        "print(\"----------------------------------------------------\")\n",
        "\n"
      ]
    }
  ]
}