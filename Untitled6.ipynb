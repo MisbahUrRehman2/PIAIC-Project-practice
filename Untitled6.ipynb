{
  "nbformat": 4,
  "nbformat_minor": 0,
  "metadata": {
    "colab": {
      "provenance": [],
      "authorship_tag": "ABX9TyN5XN12uwgsyYzYpt5iCWEm",
      "include_colab_link": true
    },
    "kernelspec": {
      "name": "python3",
      "display_name": "Python 3"
    },
    "language_info": {
      "name": "python"
    }
  },
  "cells": [
    {
      "cell_type": "markdown",
      "metadata": {
        "id": "view-in-github",
        "colab_type": "text"
      },
      "source": [
        "<a href=\"https://colab.research.google.com/github/MisbahUrRehman2/PIAIC-Project-practice/blob/main/Untitled6.ipynb\" target=\"_parent\"><img src=\"https://colab.research.google.com/assets/colab-badge.svg\" alt=\"Open In Colab\"/></a>"
      ]
    },
    {
      "cell_type": "code",
      "source": [
        "name = 'Rehan'\n",
        "teacher_names = ['Rehan']\n",
        "\n",
        "name_address = id(name)\n",
        "rehan_in_list_address = id(teacher_names[0])\n",
        "\n",
        "if name_address == rehan_in_list_address:\n",
        "  print(\"Both 'name' and the 'Rehan' element in 'teacher_names' refer to the same memory location.\")\n",
        "else:\n",
        "  print(\"'name' and the 'Rehan' element in 'teacher_names' do not refer to the same memory location.\")"
      ],
      "metadata": {
        "colab": {
          "base_uri": "https://localhost:8080/"
        },
        "id": "Btht3w80ZTYF",
        "outputId": "81d65e99-727a-4198-dea6-da0e2fd1d0c9"
      },
      "execution_count": 8,
      "outputs": [
        {
          "output_type": "stream",
          "name": "stdout",
          "text": [
            "Both 'name' and the 'Rehan' element in 'teacher_names' refer to the same memory location.\n"
          ]
        }
      ]
    },
    {
      "cell_type": "code",
      "execution_count": 9,
      "metadata": {
        "colab": {
          "base_uri": "https://localhost:8080/"
        },
        "id": "GdNjcEMmY5Ez",
        "outputId": "fd69f1d5-aae8-47fe-cf6b-03074195e536"
      },
      "outputs": [
        {
          "output_type": "stream",
          "name": "stdout",
          "text": [
            "'name' and the 'Rehan' element in 'teacher_names' do not refer to the same memory location.\n"
          ]
        }
      ],
      "source": [
        "name = 'Misbah'\n",
        "teacher_names = ['Rehan']\n",
        "\n",
        "name_address = id(name)\n",
        "rehan_in_list_address = id(teacher_names[0])\n",
        "\n",
        "if name_address == rehan_in_list_address:\n",
        "  print(\"Both 'name' and the 'Rehan' element in 'teacher_names' refer to the same memory location.\")\n",
        "else:\n",
        "  print(\"'name' and the 'Rehan' element in 'teacher_names' do not refer to the same memory location.\")\n",
        "\n"
      ]
    },
    {
      "cell_type": "code",
      "source": [
        "# prompt: find out all the methods of the sting in python using dir() function. Leave methods starting with __. Use each string method in code and write the discription of it.\n",
        "# *hint: use below code to find out all available string methods*\n",
        "# sting_methods = [method for method in dir(str) if not method.startswith('__')]\n",
        "# print(sting_methods)\n",
        "\n",
        "name = 'Rehan'\n",
        "teacher_names = ['Rehan']\n",
        "\n",
        "name_address = id(name)\n",
        "rehan_in_list_address = id(teacher_names[0])\n",
        "\n",
        "if name_address == rehan_in_list_address:\n",
        "  print(\"Both 'name' and the 'Rehan' element in 'teacher_names' refer to the same memory location.\")\n",
        "else:\n",
        "  print(\"'name' and the 'Rehan' element in 'teacher_names' do not refer to the same memory location.\")\n",
        "name = 'Misbah'\n",
        "teacher_names = ['Rehan']\n",
        "\n",
        "name_address = id(name)\n",
        "rehan_in_list_address = id(teacher_names[0])\n",
        "\n",
        "if name_address == rehan_in_list_address:\n",
        "  print(\"Both 'name' and the 'Rehan' element in 'teacher_names' refer to the same memory location.\")\n",
        "else:\n",
        "  print(\"'name' and the 'Rehan' element in 'teacher_names' do not refer to the same memory location.\")\n",
        "\n",
        "string_methods = [method for method in dir(str) if not method.startswith('__')]\n",
        "#print(string_methods)\n",
        "\n",
        "# Example usage of each string method\n",
        "test_string = \"  This is a Test String.  \"\n",
        "\n",
        "#1. capitalize()\n",
        "print(test_string.capitalize()) #Capitalizes the first letter of the string.\n",
        "#2. casefold()\n",
        "print(test_string.casefold())   #Converts string into lower case\n",
        "#3. center()\n",
        "print(test_string.center(50, '-')) #Pads the string with specified character to center it.\n",
        "#4. count()\n",
        "print(test_string.count('i'))    #Counts the occurrences of a substring in the string.\n",
        "#5. encode()\n",
        "print(test_string.encode(encoding='utf-8', errors='strict')) #Encodes the string using the specified encoding.\n",
        "#6. endswith()\n",
        "print(test_string.endswith('.')) #Checks if the string ends with the specified suffix.\n",
        "#7. expandtabs()\n",
        "print(\"this is\\tstring\".expandtabs(10))   #Expands tabs in string to multiple spaces.\n",
        "#8. find()\n",
        "print(test_string.find(\"Test\"))  #Finds the first occurrence of the specified substring and returns index\n",
        "#9. format()\n",
        "print(\"My name is {name}, I am {age}\".format(name='Rehan', age=20)) #Formats the string using placeholders.\n",
        "#10. format_map()\n",
        "point = {'x':4,'y':-5}\n",
        "print('{x} {y}'.format_map(point)) #Formats the string using a dictionary or mapping.\n",
        "#11. index()\n",
        "print(test_string.index('is'))   #Finds the first occurrence of the specified value and return its index.\n",
        "#12. isalnum()\n",
        "print(test_string.isalnum())  #Checks if all the characters in the text are alphanumeric\n",
        "#13. isalpha()\n",
        "print(test_string.isalpha()) #Checks if all characters in the string are alphabetic.\n",
        "#14. isascii()\n",
        "print(test_string.isascii()) #Checks if all characters are ASCII.\n",
        "#15. isdecimal()\n",
        "print(test_string.isdecimal()) #Checks if all characters in a string are decimal characters.\n",
        "#16. isdigit()\n",
        "print(test_string.isdigit())   #Checks if all characters are digits.\n",
        "#17. isidentifier()\n",
        "print(test_string.isidentifier()) #Checks if the string is a valid identifier.\n",
        "#18. islower()\n",
        "print(test_string.islower())   #Checks if all cased characters in the string are lowercase.\n",
        "#19. isnumeric()\n",
        "print(test_string.isnumeric()) #Checks if all characters in the string are numeric.\n",
        "#20. isprintable()\n",
        "print(test_string.isprintable()) #Checks if all characters in the string are printable.\n",
        "#21. isspace()\n",
        "print(test_string.isspace())   #Checks if all characters in the string are whitespace.\n",
        "#22. istitle()\n",
        "print(test_string.istitle())   #Checks if the string follows the rules of a title.\n",
        "#23. isupper()\n",
        "print(test_string.isupper())   #Checks if all cased characters in the string are uppercase.\n",
        "#24. join()\n",
        "print(\", \".join([\"apple\",\"banana\",\"cherry\"])) #Joins elements of an iterable with the string as a separator.\n",
        "#25. ljust()\n",
        "print(test_string.ljust(50,'*')) #Returns a left-justified version of the string\n",
        "#26. lower()\n",
        "print(test_string.lower())     #Converts a string into lower case\n",
        "#27. lstrip()\n",
        "print(test_string.lstrip())  #Returns a left trim version of the string\n",
        "#28. maketrans()\n",
        "translation = test_string.maketrans(\"s\",\"x\") #Returns a translation table usable for str.translate()\n",
        "print(test_string.translate(translation))\n",
        "#29. partition()\n",
        "print(test_string.partition('is')) #Returns a tuple where the string is parted into three parts\n",
        "#30. removeprefix()\n",
        "print(test_string.removeprefix('  Th'))\n",
        "#31. removesuffix()\n",
        "print(test_string.removesuffix(\".  \"))\n",
        "#32. replace()\n",
        "print(test_string.replace('Test',\"Replacement\")) #Replaces occurrences of a substring.\n",
        "#33. rfind()\n",
        "print(test_string.rfind('i'))  #Returns the last index where the substring is found.\n",
        "#34. rindex()\n",
        "print(test_string.rindex('i')) #Returns the last index where the substring is found\n",
        "#35. rjust()\n",
        "print(test_string.rjust(50,'*')) #Returns a right-justified version of the string\n",
        "#36. rpartition()\n",
        "print(test_string.rpartition('is')) #Returns a tuple where the string is parted into three parts\n",
        "#37. rsplit()\n",
        "print(test_string.rsplit(sep=' ',maxsplit=2)) #Splits the string at the specified separator and returns a list.\n",
        "#38. rstrip()\n",
        "print(test_string.rstrip()) #Returns a right trim version of the string\n",
        "#39. split()\n",
        "print(test_string.split(sep=' ',maxsplit=2))  #Splits the string at the specified separator, and returns a list\n",
        "#40. splitlines()\n",
        "print(\"Line 1\\nLine 2\\nLine 3\".splitlines()) #Splits the string at line breaks and returns a list\n",
        "#41. startswith()\n",
        "print(test_string.startswith(\"  This\")) #Checks if string starts with the specified string.\n",
        "#42. strip()\n",
        "print(test_string.strip())  #Returns a trimmed version of the string\n",
        "#43. swapcase()\n",
        "print(test_string.swapcase())   #Swaps cases, lower case becomes upper case and vice versa\n",
        "#44. title()\n",
        "print(test_string.title())  #Converts the first character of each word to upper case\n",
        "#45. translate()\n",
        "translation = str.maketrans(\"Tst\", \"123\") #Creates a mapping table and translates characters.\n",
        "print(test_string.translate(translation)) #Applies translation table to the string\n",
        "#46. upper()\n",
        "print(test_string.upper())   #Converts a string into upper case\n",
        "#47. zfill()\n",
        "print(test_string.zfill(50))   #Fills the string with leading zeros\n",
        "\n"
      ],
      "metadata": {
        "colab": {
          "base_uri": "https://localhost:8080/"
        },
        "id": "0kAPaMKiaSw_",
        "outputId": "1b7fb4a1-6c40-4af9-cd40-1681ef906fd0"
      },
      "execution_count": 12,
      "outputs": [
        {
          "output_type": "stream",
          "name": "stdout",
          "text": [
            "Both 'name' and the 'Rehan' element in 'teacher_names' refer to the same memory location.\n",
            "'name' and the 'Rehan' element in 'teacher_names' do not refer to the same memory location.\n",
            "  this is a test string.  \n",
            "  this is a test string.  \n",
            "------------  This is a Test String.  ------------\n",
            "3\n",
            "b'  This is a Test String.  '\n",
            "False\n",
            "this is   string\n",
            "12\n",
            "My name is Rehan, I am 20\n",
            "4 -5\n",
            "4\n",
            "False\n",
            "False\n",
            "True\n",
            "False\n",
            "False\n",
            "False\n",
            "False\n",
            "False\n",
            "True\n",
            "False\n",
            "False\n",
            "False\n",
            "apple, banana, cherry\n",
            "  This is a Test String.  ************************\n",
            "  this is a test string.  \n",
            "This is a Test String.  \n",
            "  Thix ix a Text String.  \n",
            "('  Th', 'is', ' is a Test String.  ')\n",
            "is is a Test String.  \n",
            "  This is a Test String\n",
            "  This is a Replacement String.  \n",
            "20\n",
            "20\n",
            "************************  This is a Test String.  \n",
            "('  This ', 'is', ' a Test String.  ')\n",
            "['  This is a Test String.', '', '']\n",
            "  This is a Test String.\n",
            "['', '', 'This is a Test String.  ']\n",
            "['Line 1', 'Line 2', 'Line 3']\n",
            "True\n",
            "This is a Test String.\n",
            "  tHIS IS A tEST sTRING.  \n",
            "  This Is A Test String.  \n",
            "  1hi2 i2 a 1e23 S3ring.  \n",
            "  THIS IS A TEST STRING.  \n",
            "000000000000000000000000  This is a Test String.  \n"
          ]
        }
      ]
    },
    {
      "cell_type": "code",
      "source": [
        "\n",
        "list_methods = [method for method in dir(list) if not method.startswith('__')]\n",
        "#print(list_methods)\n",
        "\n",
        "my_list = [1, 2, 3, 4, 5]\n",
        "\n",
        "# 1. append()\n",
        "my_list.append(6) #Adds an element at the end of the list\n",
        "print(f\"append(): {my_list}\")\n",
        "\n",
        "# 2. clear()\n",
        "my_list_copy = my_list[:] # Create a copy to avoid modifying the original\n",
        "my_list_copy.clear() #Removes all the elements from the list\n",
        "print(f\"clear(): {my_list_copy}\")\n",
        "\n",
        "\n",
        "# 3. copy()\n",
        "copied_list = my_list.copy() #Returns a shallow copy of the list\n",
        "print(f\"copy(): {copied_list}\")\n",
        "\n",
        "# 4. count()\n",
        "count_of_2 = my_list.count(2) #Returns the number of elements with the specified value\n",
        "print(f\"count(): {count_of_2}\")\n",
        "\n",
        "# 5. extend()\n",
        "my_list.extend([7, 8, 9]) #Add the elements of a list (or any iterable), to the end of the current list\n",
        "print(f\"extend(): {my_list}\")\n",
        "\n",
        "# 6. index()\n",
        "index_of_4 = my_list.index(4) #Returns the index of the first element with the specified value\n",
        "print(f\"index(): {index_of_4}\")\n",
        "\n",
        "# 7. insert()\n",
        "my_list.insert(2, 10) #Adds an element at the specified position\n",
        "print(f\"insert(): {my_list}\")\n",
        "\n",
        "# 8. pop()\n",
        "popped_element = my_list.pop(3)  #Removes the element at the specified position\n",
        "print(f\"pop(): {popped_element}, {my_list}\")\n",
        "\n",
        "# 9. remove()\n",
        "my_list.remove(8)  #Removes the item with the specified value\n",
        "print(f\"remove(): {my_list}\")\n",
        "\n",
        "# 10. reverse()\n",
        "my_list.reverse()  #Reverses the order of the list\n",
        "print(f\"reverse(): {my_list}\")\n",
        "\n",
        "# 11. sort()\n",
        "my_list.sort() #Sorts the list\n",
        "print(f\"sort(): {my_list}\")\n"
      ],
      "metadata": {
        "colab": {
          "base_uri": "https://localhost:8080/"
        },
        "id": "dZ1HhTr-amEs",
        "outputId": "af17b420-d3ce-4eab-f617-87087fcaf75c"
      },
      "execution_count": 14,
      "outputs": [
        {
          "output_type": "stream",
          "name": "stdout",
          "text": [
            "append(): [1, 2, 3, 4, 5, 6]\n",
            "clear(): []\n",
            "copy(): [1, 2, 3, 4, 5, 6]\n",
            "count(): 1\n",
            "extend(): [1, 2, 3, 4, 5, 6, 7, 8, 9]\n",
            "index(): 3\n",
            "insert(): [1, 2, 10, 3, 4, 5, 6, 7, 8, 9]\n",
            "pop(): 3, [1, 2, 10, 4, 5, 6, 7, 8, 9]\n",
            "remove(): [1, 2, 10, 4, 5, 6, 7, 9]\n",
            "reverse(): [9, 7, 6, 5, 4, 10, 2, 1]\n",
            "sort(): [1, 2, 4, 5, 6, 7, 9, 10]\n"
          ]
        }
      ]
    }
  ]
}